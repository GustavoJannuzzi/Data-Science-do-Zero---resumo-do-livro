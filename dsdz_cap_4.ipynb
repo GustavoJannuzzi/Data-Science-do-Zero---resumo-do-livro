{
 "cells": [
  {
   "cell_type": "markdown",
   "id": "e4df0d7e",
   "metadata": {},
   "source": [
    "<h1> Data Science do Zero </h1>"
   ]
  },
  {
   "cell_type": "markdown",
   "id": "bf83befe",
   "metadata": {},
   "source": [
    "<h2> Capítulo 04 - Álgebra Linear </h2>"
   ]
  },
  {
   "cell_type": "markdown",
   "id": "d159d8c7",
   "metadata": {},
   "source": [
    "### Vetores\n",
    "Álgebra é o ramo da matemática que lida com vetores. É extremamente importante para ciência de dados."
   ]
  },
  {
   "cell_type": "markdown",
   "id": "431c8aa9",
   "metadata": {},
   "source": [
    "A abordagem mais simples é representar vetores como listas de números. <br>\n",
    "Para **somar** dois vetores, precisamos que os mesmo sejam das mesmas dimeções: <br>\n",
    " [1, 2] e [2, 1]."
   ]
  },
  {
   "cell_type": "code",
   "execution_count": 20,
   "id": "038bfe85",
   "metadata": {},
   "outputs": [
    {
     "data": {
      "text/plain": [
       "[3, 3]"
      ]
     },
     "execution_count": 20,
     "metadata": {},
     "output_type": "execute_result"
    }
   ],
   "source": [
    "# Podemos somar com vetores zip \n",
    "\n",
    "w = [1, 2]\n",
    "v = [2, 1]\n",
    "\n",
    "def vector_add(v, w):\n",
    "    \"\"\"soma elementos correspondentes\"\"\"\n",
    "    return[v_i + w_i\n",
    "          for v_i, w_i in zip(v, w)]\n",
    "\n",
    "vector_add(v,w)"
   ]
  },
  {
   "cell_type": "code",
   "execution_count": 21,
   "id": "02afac57",
   "metadata": {},
   "outputs": [
    {
     "data": {
      "text/plain": [
       "[1, -1]"
      ]
     },
     "execution_count": 21,
     "metadata": {},
     "output_type": "execute_result"
    }
   ],
   "source": [
    "# Também podemos subtrair\n",
    "\n",
    "def vector_subtract(v, w):\n",
    "    \"\"\"subtrai elementos correspondentes\"\"\"\n",
    "    return[v_i - w_i\n",
    "          for v_i, w_i in zip(v, w)]\n",
    "\n",
    "vector_subtract(v,w)"
   ]
  },
  {
   "cell_type": "code",
   "execution_count": 22,
   "id": "dbee5090",
   "metadata": {},
   "outputs": [],
   "source": [
    "# Fazer a soma de vários vetores em uma função\n",
    "\n",
    "def vector_sum(vectors): \n",
    "    result = vectors[0]\n",
    "    for vector in vectors [1:]:\n",
    "        reult = vector_add(result, vectors)\n",
    "        return result"
   ]
  },
  {
   "cell_type": "code",
   "execution_count": 23,
   "id": "dbd6851a",
   "metadata": {},
   "outputs": [
    {
     "data": {
      "text/plain": [
       "[6, 3]"
      ]
     },
     "execution_count": 23,
     "metadata": {},
     "output_type": "execute_result"
    }
   ],
   "source": [
    "# Multilicação de vetores: multiplica todos os elementos dentro da lista por um valor informado.\n",
    "def scalar_multiply (c,v):\n",
    "    return[c * v_i for v_i in v]\n",
    "\n",
    "scalar_multiply(3, v)  \n"
   ]
  },
  {
   "cell_type": "code",
   "execution_count": 24,
   "id": "8f700933",
   "metadata": {},
   "outputs": [],
   "source": [
    "# Assim podemos tirar a média de um vetor\n",
    "def vector_mean(vectors):\n",
    "    n = len(vectors)\n",
    "    return scalar_multiply(1/n, vector_sum(vectors))\n"
   ]
  },
  {
   "cell_type": "code",
   "execution_count": 25,
   "id": "55eeae2f",
   "metadata": {},
   "outputs": [],
   "source": [
    "# PRODUTO ESCALAR: \n",
    "# o produto escalar de dois vetores é a soma de seus produtos componente a componente.\n",
    "\n",
    "def dot(v, w):\n",
    "    \"\"\"v1 * w1 + ... + vn * wn\"\"\"\n",
    "    return sum(v_i * w_i for v_i,  w_i in zip(v, w))"
   ]
  },
  {
   "cell_type": "code",
   "execution_count": 27,
   "id": "47ff0c3d",
   "metadata": {},
   "outputs": [],
   "source": [
    "# Computar a soma dos quadrados de um vetor.\n",
    "def sum_of_quares(v):\n",
    "    return dot(v,v)"
   ]
  },
  {
   "cell_type": "code",
   "execution_count": 30,
   "id": "20b78320",
   "metadata": {},
   "outputs": [],
   "source": [
    "# Calcular magnitude\n",
    "import math\n",
    "\n",
    "def magnitude(v):\n",
    "    return math.sqrt(sum_of_squares(v)) #math.sqrt é a função da raiz quadrada"
   ]
  },
  {
   "cell_type": "markdown",
   "id": "6becb8d6",
   "metadata": {},
   "source": [
    "Com isso podemos calcular a distância entre dois vetores, definida como:"
   ]
  },
  {
   "cell_type": "markdown",
   "id": "70459662",
   "metadata": {},
   "source": [
    "<img src=\"Downloads/distance-two-vectors-pg52.png\">"
   ]
  },
  {
   "cell_type": "code",
   "execution_count": 31,
   "id": "02e5f068",
   "metadata": {},
   "outputs": [],
   "source": [
    "def squared_distance (v, w):\n",
    "    \"\"\"(v_1 - w_1) **2 + ... +(v_n - w_n)**2\"\"\"\n",
    "    return sum_of_squares(vector_substract(v,w))\n",
    "\n",
    "def distance(v, w):\n",
    "    return math.sqrt(squared_distance(v, w))"
   ]
  },
  {
   "cell_type": "code",
   "execution_count": 32,
   "id": "75db1a16",
   "metadata": {},
   "outputs": [],
   "source": [
    "# FICA MAIS CLARO SE ESCREVERMOS ...\n",
    "def distance(v, w):\n",
    "    return magnitude(vector_subtract(v,w))"
   ]
  },
  {
   "cell_type": "markdown",
   "id": "be464be1",
   "metadata": {},
   "source": [
    "### Matrizes\n",
    "São representadas com \"listas de listas\". <br>\n",
    "Se você tivesse a altura, peso  e idade de 1000 pessoas, poderíamos representar isso em uma matriz 1000 X 3, como no exemplo 3.1.<br>\n",
    "As matrizes também podem ser usadas para representações de relações binárias."
   ]
  },
  {
   "cell_type": "code",
   "execution_count": null,
   "id": "02d912b2",
   "metadata": {},
   "outputs": [],
   "source": [
    "# Exemplo 3.1\n",
    "data = [[70, 170, 40]\n",
    "        [65, 120, 26]\n",
    "        [49, 95, 10]\n",
    "        #...\n",
    "       ]"
   ]
  },
  {
   "cell_type": "markdown",
   "id": "104c2f26",
   "metadata": {},
   "source": [
    "**Álgebra linear é extremamente importante para cientistas de dados!!**"
   ]
  },
  {
   "cell_type": "code",
   "execution_count": null,
   "id": "4a8622fa",
   "metadata": {},
   "outputs": [],
   "source": []
  }
 ],
 "metadata": {
  "kernelspec": {
   "display_name": "Python 3 (ipykernel)",
   "language": "python",
   "name": "python3"
  },
  "language_info": {
   "codemirror_mode": {
    "name": "ipython",
    "version": 3
   },
   "file_extension": ".py",
   "mimetype": "text/x-python",
   "name": "python",
   "nbconvert_exporter": "python",
   "pygments_lexer": "ipython3",
   "version": "3.9.7"
  }
 },
 "nbformat": 4,
 "nbformat_minor": 5
}
