{
 "cells": [
  {
   "cell_type": "markdown",
   "id": "e4df0d7e",
   "metadata": {},
   "source": [
    "<h1> Data Science do Zero </h1>"
   ]
  },
  {
   "cell_type": "markdown",
   "id": "bf83befe",
   "metadata": {},
   "source": [
    "<h2> Capítulo 01 - Introdução </h2>"
   ]
  },
  {
   "cell_type": "markdown",
   "id": "910ceaf1",
   "metadata": {},
   "source": [
    "O que é Data Science, de acordo com o diagrama de Venn, se encontra entre:\n",
    "   - Habilidades de hacker\n",
    "   - Conhecimento de estatística e matemática\n",
    "   - Competência significativa\n"
   ]
  },
  {
   "cell_type": "markdown",
   "id": "1d06a37e",
   "metadata": {},
   "source": [
    "O objetivo deste livro é focado nos dois primeiros itens, habilidades de hacker e estatística"
   ]
  },
  {
   "cell_type": "markdown",
   "id": "3dcde388",
   "metadata": {},
   "source": [
    "Os códigos e dados estão disponíveis em: https://github.com/joelgrus/data-science-from-scratch"
   ]
  },
  {
   "cell_type": "markdown",
   "id": "a0145414",
   "metadata": {},
   "source": [
    "É seu primeiro dia na DataSciencester, o vice-presidente quer que você identifique quem s\n",
    "ao os \"conectores-chave\" entre oscientistas de dados. Ele te da a rede de Data scietist. "
   ]
  },
  {
   "cell_type": "code",
   "execution_count": 1,
   "id": "0c40a3ee",
   "metadata": {},
   "outputs": [],
   "source": [
    "user=[\n",
    "    {\"id\":0,\"name\": \"Hero\"},\n",
    "    {\"id\":1,\"name\": \"Dunn\"},\n",
    "    {\"id\":2,\"name\": \"Sue\"},\n",
    "    {\"id\":3,\"name\": \"Chi\"},\n",
    "    {\"id\":4,\"name\": \"Thor\"},\n",
    "    {\"id\":5,\"name\": \"Clive\"},\n",
    "    {\"id\":6,\"name\": \"Hicks\"},\n",
    "    {\"id\":7,\"name\": \"Devin\"},\n",
    "    {\"id\":8,\"name\": \"Kate\"},\n",
    "    {\"id\":9,\"name\": \"Klein\"},\n",
    "]"
   ]
  },
  {
   "cell_type": "markdown",
   "id": "7c865f2a",
   "metadata": {},
   "source": [
    "Ele tmb da dados \"amigáveis\". A tupla (0,1) indica que o cientista de dados com id 0 e o de id 1 são amigos"
   ]
  },
  {
   "cell_type": "code",
   "execution_count": 2,
   "id": "e769af43",
   "metadata": {},
   "outputs": [],
   "source": [
    "friendship = [(0,1),(0,2),(1,2),(1,3),(2,3),(3,4),(4,5),(5,6),(5,7),(6,8),(7,8),(8,9),]"
   ]
  },
  {
   "cell_type": "markdown",
   "id": "6add0cc8",
   "metadata": {},
   "source": [
    "<h2> Capítulo 02 - Curso Relâmpado Python </h2>"
   ]
  },
  {
   "cell_type": "markdown",
   "id": "933c0f6d",
   "metadata": {},
   "source": [
    "**Aritimética**, **Funções**( def, lambda..), **Strings**, **Exceções**(Quando algo dá errado, o Python exibe uma <i>exceção</i>, você mnipula a mensagem de exceção por \"try\" e \"except\")..."
   ]
  },
  {
   "cell_type": "markdown",
   "id": "d18b7332",
   "metadata": {},
   "source": [
    "**Listas**:"
   ]
  },
  {
   "cell_type": "code",
   "execution_count": 3,
   "id": "597fe3c2",
   "metadata": {},
   "outputs": [
    {
     "ename": "SyntaxError",
     "evalue": "invalid syntax (Temp/ipykernel_5628/3673193962.py, line 3)",
     "output_type": "error",
     "traceback": [
      "\u001b[1;36m  File \u001b[1;32m\"C:\\Users\\GUSTAV~1.SIE\\AppData\\Local\\Temp/ipykernel_5628/3673193962.py\"\u001b[1;36m, line \u001b[1;32m3\u001b[0m\n\u001b[1;33m    list of lists = [integer_list, heterogenous_list, []]\u001b[0m\n\u001b[1;37m         ^\u001b[0m\n\u001b[1;31mSyntaxError\u001b[0m\u001b[1;31m:\u001b[0m invalid syntax\n"
     ]
    }
   ],
   "source": [
    "integer_list = [1,2,3]\n",
    "heterogenous_list = [\"string\",0.1, True]\n",
    "list of lists = [integer_list, heterogenous_list, []]"
   ]
  },
  {
   "cell_type": "code",
   "execution_count": 4,
   "id": "e1c200aa",
   "metadata": {
    "collapsed": true
   },
   "outputs": [
    {
     "ename": "TypeError",
     "evalue": "'range' object does not support item assignment",
     "output_type": "error",
     "traceback": [
      "\u001b[1;31m---------------------------------------------------------------------------\u001b[0m",
      "\u001b[1;31mTypeError\u001b[0m                                 Traceback (most recent call last)",
      "\u001b[1;32mC:\\Users\\GUSTAV~1.SIE\\AppData\\Local\\Temp/ipykernel_5628/1197299250.py\u001b[0m in \u001b[0;36m<module>\u001b[1;34m\u001b[0m\n\u001b[0;32m      3\u001b[0m \u001b[0mzero\u001b[0m \u001b[1;33m=\u001b[0m \u001b[0mx\u001b[0m\u001b[1;33m[\u001b[0m\u001b[1;36m0\u001b[0m\u001b[1;33m]\u001b[0m         \u001b[1;31m# é igual a zero, ou seja o primeiro elemento da lista.\u001b[0m\u001b[1;33m\u001b[0m\u001b[1;33m\u001b[0m\u001b[0m\n\u001b[0;32m      4\u001b[0m \u001b[0mnine\u001b[0m \u001b[1;33m=\u001b[0m \u001b[0mx\u001b[0m\u001b[1;33m[\u001b[0m\u001b[1;33m-\u001b[0m\u001b[1;36m1\u001b[0m\u001b[1;33m]\u001b[0m        \u001b[1;31m# é o primeiro elemento de trás para frente\u001b[0m\u001b[1;33m\u001b[0m\u001b[1;33m\u001b[0m\u001b[0m\n\u001b[1;32m----> 5\u001b[1;33m \u001b[0mx\u001b[0m\u001b[1;33m[\u001b[0m\u001b[1;36m0\u001b[0m\u001b[1;33m]\u001b[0m \u001b[1;33m=\u001b[0m \u001b[1;33m-\u001b[0m\u001b[1;36m1\u001b[0m           \u001b[1;31m# torna -1 o primeiro elemento da lista\u001b[0m\u001b[1;33m\u001b[0m\u001b[1;33m\u001b[0m\u001b[0m\n\u001b[0m",
      "\u001b[1;31mTypeError\u001b[0m: 'range' object does not support item assignment"
     ]
    }
   ],
   "source": [
    "# Manipulando o elemento n-ésimo de uma lista\n",
    "x = range(10)      # é a lista [0,1...,9]\n",
    "zero = x[0]         # é igual a zero, ou seja o primeiro elemento da lista.\n",
    "nine = x[-1]        # é o primeiro elemento de trás para frente\n",
    "x[0] = -1           # torna -1 o primeiro elemento da lista"
   ]
  },
  {
   "cell_type": "code",
   "execution_count": null,
   "id": "276f16b3",
   "metadata": {},
   "outputs": [],
   "source": [
    "# concatenar: \n",
    "x = [1,2,3]\n",
    "x.extend([4,5,6])\n",
    "\n",
    "#adicionar um elemento apenas:\n",
    "x.append(0)"
   ]
  },
  {
   "cell_type": "markdown",
   "id": "194b0cdd",
   "metadata": {},
   "source": [
    "**Tuplas**:"
   ]
  },
  {
   "cell_type": "code",
   "execution_count": null,
   "id": "9ec2944e",
   "metadata": {},
   "outputs": [],
   "source": [
    "# São como listas, porém imutáveis.\n",
    "my_tuple = (1,2)"
   ]
  },
  {
   "cell_type": "code",
   "execution_count": null,
   "id": "f4dcefa4",
   "metadata": {},
   "outputs": [],
   "source": [
    "try:\n",
    "    my_tuple[1] = 3\n",
    "except TypeError:\n",
    "    print \"Cannot modify a tuple\""
   ]
  },
  {
   "cell_type": "markdown",
   "id": "ed6aba92",
   "metadata": {},
   "source": [
    "**Dicionários**:"
   ]
  },
  {
   "cell_type": "code",
   "execution_count": null,
   "id": "b4433ff0",
   "metadata": {},
   "outputs": [],
   "source": [
    "# Associa valores cmo chaves \n",
    "grades = {\"Joel\":80, \"Tim\":95}"
   ]
  },
  {
   "cell_type": "markdown",
   "id": "e03fa547",
   "metadata": {},
   "source": [
    "**Conjuntos**:"
   ]
  },
  {
   "cell_type": "code",
   "execution_count": null,
   "id": "1ed32eb2",
   "metadata": {},
   "outputs": [],
   "source": [
    "# É outra estrutura de dados. que representa conjuntos de elementos distintos\n",
    "s = set()\n",
    "s.add(1)    # s é igual a {1}\n",
    "s.add(2)    # s é igual a {1, 2}\n",
    "s.add(2)    # s ainda é igual a {1, 2}"
   ]
  },
  {
   "cell_type": "code",
   "execution_count": null,
   "id": "f5febe3b",
   "metadata": {},
   "outputs": [],
   "source": [
    "# Usa conjuntos é bom para usar \"in\" e para encontrar itens distintos.\n",
    "\n",
    "item_list = [1,2,3,1,2,3]\n",
    "distinct_item_list = list(item_list)"
   ]
  },
  {
   "cell_type": "markdown",
   "id": "16ff0ca9",
   "metadata": {},
   "source": [
    "**Controle de Fluxo**"
   ]
  },
  {
   "cell_type": "code",
   "execution_count": null,
   "id": "73b08f77",
   "metadata": {},
   "outputs": [],
   "source": [
    "#  if, else\n",
    "if 1 > 2:\n",
    "    message = \"if only 1 were grather than two..\"\n",
    "elif 1 > 3:\n",
    "    message = \"alif stands for 'else if'\"\n",
    "else:\n",
    "    message = \"when all else fails use else(if you want so)\""
   ]
  },
  {
   "cell_type": "code",
   "execution_count": null,
   "id": "82bc4b6a",
   "metadata": {},
   "outputs": [],
   "source": [
    "# if-then-else em uma linha:\n",
    "parity = \"even\" if x % 2 == 0 else \"odd\"     #DEU ERRO"
   ]
  },
  {
   "cell_type": "code",
   "execution_count": null,
   "id": "1502398c",
   "metadata": {},
   "outputs": [],
   "source": [
    "# loop while\n",
    "x = 0 \n",
    "while x < 10: \n",
    "    print (x, \"is less than 10\")\n",
    "    x +=1"
   ]
  },
  {
   "cell_type": "code",
   "execution_count": null,
   "id": "e1c01b8b",
   "metadata": {},
   "outputs": [],
   "source": [
    "# for e in\n",
    "\n",
    "for x in range(10):\n",
    "    print (x, \" is less than 10\")"
   ]
  },
  {
   "cell_type": "code",
   "execution_count": null,
   "id": "960cd5be",
   "metadata": {},
   "outputs": [],
   "source": [
    "# for com break para lógicas mais complexas\n",
    "\n",
    "for x in range(10):\n",
    "    if (x == 3):\n",
    "        continue     #vai para próxima iteração direto\n",
    "    if (x == 5):\n",
    "        break        #sai do loop completamente\n",
    "    print (x)"
   ]
  },
  {
   "cell_type": "markdown",
   "id": "a8c105a9",
   "metadata": {},
   "source": [
    "**Veracidade:**"
   ]
  },
  {
   "cell_type": "code",
   "execution_count": 5,
   "id": "0f99c0c5",
   "metadata": {},
   "outputs": [
    {
     "name": "stdout",
     "output_type": "stream",
     "text": [
      "True\n",
      "False\n"
     ]
    }
   ],
   "source": [
    "# Os booleanos em Python começam com letra maiúscula\n",
    "x = 1\n",
    "print(x == 1)\n",
    "print(x == 3)"
   ]
  },
  {
   "cell_type": "markdown",
   "id": "b81982a8",
   "metadata": {},
   "source": [
    "<h3>Não tão básico: </h3>"
   ]
  },
  {
   "cell_type": "markdown",
   "id": "b7c64300",
   "metadata": {},
   "source": [
    "**Ordenação:**"
   ]
  },
  {
   "cell_type": "code",
   "execution_count": 6,
   "id": "c06679ce",
   "metadata": {},
   "outputs": [
    {
     "name": "stdout",
     "output_type": "stream",
     "text": [
      "[1, 2, 3, 4]\n"
     ]
    }
   ],
   "source": [
    "# sort() ordena os elementos de uma lista de menor para maior.\n",
    "x = [4, 1, 2, 3]\n",
    "y = sorted(x)\n",
    "print(y)"
   ]
  },
  {
   "cell_type": "markdown",
   "id": "b4edf7c4",
   "metadata": {},
   "source": []
  },
  {
   "cell_type": "markdown",
   "id": "d553a227",
   "metadata": {},
   "source": [
    "**List Comprehension:**"
   ]
  },
  {
   "cell_type": "code",
   "execution_count": 7,
   "id": "ca72e953",
   "metadata": {},
   "outputs": [],
   "source": [
    "# A forma pythonica de transformar e/ou copiar elementos d uma lista é através de list comprehension\n",
    "even_numbers = [x for x in range(5) if x % 2 == 0]        #[0, 2, 4]\n",
    "squares = [x * x for x in range(5)]                       #[0, 1, 4, 9, 16]\n",
    "even_squares = [x * x for x in even_numbers]              #[0, 4, 16]"
   ]
  },
  {
   "cell_type": "code",
   "execution_count": 8,
   "id": "653d7340",
   "metadata": {},
   "outputs": [
    {
     "name": "stdout",
     "output_type": "stream",
     "text": [
      "[(0, 0), (0, 1), (0, 2), (0, 3), (0, 4), (0, 5), (0, 6), (0, 7), (0, 8), (0, 9), (1, 0), (1, 1), (1, 2), (1, 3), (1, 4), (1, 5), (1, 6), (1, 7), (1, 8), (1, 9), (2, 0), (2, 1), (2, 2), (2, 3), (2, 4), (2, 5), (2, 6), (2, 7), (2, 8), (2, 9), (3, 0), (3, 1), (3, 2), (3, 3), (3, 4), (3, 5), (3, 6), (3, 7), (3, 8), (3, 9), (4, 0), (4, 1), (4, 2), (4, 3), (4, 4), (4, 5), (4, 6), (4, 7), (4, 8), (4, 9), (5, 0), (5, 1), (5, 2), (5, 3), (5, 4), (5, 5), (5, 6), (5, 7), (5, 8), (5, 9), (6, 0), (6, 1), (6, 2), (6, 3), (6, 4), (6, 5), (6, 6), (6, 7), (6, 8), (6, 9), (7, 0), (7, 1), (7, 2), (7, 3), (7, 4), (7, 5), (7, 6), (7, 7), (7, 8), (7, 9), (8, 0), (8, 1), (8, 2), (8, 3), (8, 4), (8, 5), (8, 6), (8, 7), (8, 8), (8, 9), (9, 0), (9, 1), (9, 2), (9, 3), (9, 4), (9, 5), (9, 6), (9, 7), (9, 8), (9, 9)]\n"
     ]
    }
   ],
   "source": [
    "# list comprehension com múltiplos for()\n",
    "pairs = [(x, y) \n",
    "        for x in range (10)\n",
    "        for y in range (10)]    # 100 pairs (0,0) (0,1) ..\n",
    "print(pairs)"
   ]
  },
  {
   "cell_type": "markdown",
   "id": "da79ca93",
   "metadata": {},
   "source": [
    "**Geradores e Iteradores:**"
   ]
  },
  {
   "cell_type": "code",
   "execution_count": 9,
   "id": "d270e094",
   "metadata": {},
   "outputs": [],
   "source": [
    "# Suponha que você tem uma lista com uma porrada de elementos.\n",
    "# Um gerador é algo que vc pode iterar mas quando os valores são produzidos apenas quando necessário\n",
    "# Uma forma de criar é usando yield\n",
    "\n",
    "def lazy_range(n):\n",
    "    \"\"\"uma versão preguiçosa de range\"\"\"\n",
    "    i = 0 \n",
    "    while i < n:\n",
    "        yield i\n",
    "        i += 1"
   ]
  },
  {
   "cell_type": "code",
   "execution_count": 10,
   "id": "3d49d6e7",
   "metadata": {},
   "outputs": [],
   "source": [
    "# outra forma de criar geradores é usando comprehension de fo dentro de parênteses:\n",
    "lazy_evens_below_20 = (i for i in lazy_range(20) if i % 2 == 0)"
   ]
  },
  {
   "cell_type": "markdown",
   "id": "aa22a640",
   "metadata": {},
   "source": [
    "**Aleatoriedade:** "
   ]
  },
  {
   "cell_type": "code",
   "execution_count": 11,
   "id": "59a03a6b",
   "metadata": {},
   "outputs": [
    {
     "name": "stdout",
     "output_type": "stream",
     "text": [
      "[0.14210947312309974, 0.39050585311154096, 0.6504021146417299, 0.08299457775322483]\n"
     ]
    }
   ],
   "source": [
    "import random\n",
    "four_uniform_randoms = [random.random() for _ in range (4)]\n",
    "\n",
    "print(four_uniform_randoms)"
   ]
  },
  {
   "cell_type": "code",
   "execution_count": 12,
   "id": "acdab5ce",
   "metadata": {},
   "outputs": [
    {
     "data": {
      "text/plain": [
       "2"
      ]
     },
     "execution_count": 12,
     "metadata": {},
     "output_type": "execute_result"
    }
   ],
   "source": [
    "random.randrange(10)   #escolhe um número do range(10)\n",
    "#  --- ---\n",
    "range_10 = range (10)\n",
    "random.choice(range_10)  # escolhe um elemento randomicamente"
   ]
  },
  {
   "cell_type": "code",
   "execution_count": 13,
   "id": "629a0885",
   "metadata": {},
   "outputs": [
    {
     "name": "stdout",
     "output_type": "stream",
     "text": [
      "[36, 28, 32, 38, 27, 5]\n"
     ]
    }
   ],
   "source": [
    "lottery_numbers = range(60)\n",
    "winning_numbers = random.sample(lottery_numbers, 6)\n",
    "print (winning_numbers)"
   ]
  },
  {
   "cell_type": "markdown",
   "id": "f039fd40",
   "metadata": {},
   "source": [
    "**Expressões Regulares:**"
   ]
  },
  {
   "cell_type": "code",
   "execution_count": 17,
   "id": "8591c114",
   "metadata": {},
   "outputs": [
    {
     "name": "stdout",
     "output_type": "stream",
     "text": [
      "[True, <re.Match object; span=(1, 2), match='a'>, True, True, False]\n"
     ]
    }
   ],
   "source": [
    "# Servem para procurar texto. pouco usado\n",
    "\n",
    "import re\n",
    " \n",
    "print ([ \n",
    "    not re.match(\"a\",\"cat\"),\n",
    "    re.search(\"a\", \"cat\"),\n",
    "    not re.search(\"c\",\"dog\"),\n",
    "    3== len(re.split(\"[ab]\",\"carbs\")),\n",
    "    \"R-D-\" == re.sub(\"[0.9]\", \"-\", \"R2D2\")\n",
    "    ]) "
   ]
  },
  {
   "cell_type": "markdown",
   "id": "22a071d4",
   "metadata": {},
   "source": [
    "**Programação Orietada a Objeto**"
   ]
  },
  {
   "cell_type": "markdown",
   "id": "b04d70d1",
   "metadata": {},
   "source": [
    "O Python permite que você defina classes e encapsule dados as funções que as operam. <br>\n",
    "conteúdo extra: https://www.youtube.com/playlist?list=PLbIBj8vQhvm34qAAEEH_PdL2tMG9rz-P7"
   ]
  },
  {
   "cell_type": "markdown",
   "id": "cbf456c8",
   "metadata": {},
   "source": [
    "**Ferramentas Funcionais**"
   ]
  },
  {
   "cell_type": "code",
   "execution_count": 19,
   "id": "759cf817",
   "metadata": {},
   "outputs": [
    {
     "data": {
      "text/plain": [
       "8"
      ]
     },
     "execution_count": 19,
     "metadata": {},
     "output_type": "execute_result"
    }
   ],
   "source": [
    "# Criar funções novas\n",
    "def exp(base, power):\n",
    "    return base ** power\n",
    "\n",
    "#Usando essa função para criar outra\n",
    "def two_to_the(power):\n",
    "    return exp(2,power)\n",
    "\n",
    "#Usando functools.partial:\n",
    "from functools import partial\n",
    "two_to_the = partial(exp, 2)\n",
    "two_to_the(3)"
   ]
  },
  {
   "cell_type": "markdown",
   "id": "d1b2eafd",
   "metadata": {},
   "source": [
    " Ocasionalmente usaremos *map*, *reduce* e *filter* para compreenção de listas"
   ]
  },
  {
   "cell_type": "code",
   "execution_count": 23,
   "id": "d22adeb5",
   "metadata": {},
   "outputs": [],
   "source": [
    "def double(x):\n",
    "    return 2*x\n",
    "\n",
    "xs = [1, 2, 3, 4]\n",
    "twice_xs = [double(x) for x in xs]\n",
    "twice_xs = map(double, xs)\n",
    "list_doubler = partial(map, double)\n",
    "twice_xs = list_doubler(xs)"
   ]
  },
  {
   "cell_type": "code",
   "execution_count": 27,
   "id": "8339fbb6",
   "metadata": {},
   "outputs": [
    {
     "name": "stdout",
     "output_type": "stream",
     "text": [
      "<map object at 0x000001F9CF9B8520>\n"
     ]
    }
   ],
   "source": [
    "# map\n",
    "def multiply(x,y): \n",
    "    return x*y\n",
    "\n",
    "products = map(multiply, [1,2],[4,5])\n",
    "print(products)"
   ]
  },
  {
   "cell_type": "code",
   "execution_count": 32,
   "id": "fc42b754",
   "metadata": {},
   "outputs": [],
   "source": [
    "# filter; faz uma list comprehension de if\n",
    "\n",
    "def is_even(x):\n",
    "    return x % 2\n",
    "x_evens = [x for x in xs if is_even(x)] \n",
    "x_evens = filter(is_even, xs)                   # igual ao de cima\n",
    "list_evener = partial(filter, multiply)         # função que filtra a lista\n",
    "x_product = list_evener(xs)                     # novamente[2, 4]"
   ]
  },
  {
   "cell_type": "code",
   "execution_count": 33,
   "id": "360e713c",
   "metadata": {
    "collapsed": true
   },
   "outputs": [
    {
     "ename": "NameError",
     "evalue": "name 'reduce' is not defined",
     "output_type": "error",
     "traceback": [
      "\u001b[1;31m---------------------------------------------------------------------------\u001b[0m",
      "\u001b[1;31mNameError\u001b[0m                                 Traceback (most recent call last)",
      "\u001b[1;32mC:\\Users\\GUSTAV~1.SIE\\AppData\\Local\\Temp/ipykernel_5628/1783159329.py\u001b[0m in \u001b[0;36m<module>\u001b[1;34m\u001b[0m\n\u001b[0;32m      1\u001b[0m \u001b[1;31m# reduce\u001b[0m\u001b[1;33m\u001b[0m\u001b[1;33m\u001b[0m\u001b[0m\n\u001b[1;32m----> 2\u001b[1;33m \u001b[0mx_product\u001b[0m \u001b[1;33m=\u001b[0m \u001b[0mreduce\u001b[0m\u001b[1;33m(\u001b[0m\u001b[0mmultiply\u001b[0m\u001b[1;33m,\u001b[0m \u001b[0mxs\u001b[0m\u001b[1;33m)\u001b[0m\u001b[1;33m\u001b[0m\u001b[1;33m\u001b[0m\u001b[0m\n\u001b[0m",
      "\u001b[1;31mNameError\u001b[0m: name 'reduce' is not defined"
     ]
    }
   ],
   "source": [
    "# reduce\n",
    "x_product = reduce(multiply, xs)"
   ]
  },
  {
   "cell_type": "markdown",
   "id": "d15d466e",
   "metadata": {},
   "source": [
    "**Enumeração :**"
   ]
  },
  {
   "cell_type": "markdown",
   "id": "bc10488e",
   "metadata": {},
   "source": [
    "Com frequencia você vai querer iterar por uma lista e a maneira mais pythonica de fazer isso é com *enumerate*.<br>\n",
    "Isso será bem utilizado!"
   ]
  },
  {
   "cell_type": "code",
   "execution_count": 34,
   "id": "3f0a1465",
   "metadata": {
    "collapsed": true
   },
   "outputs": [
    {
     "ename": "NameError",
     "evalue": "name 'documents' is not defined",
     "output_type": "error",
     "traceback": [
      "\u001b[1;31m---------------------------------------------------------------------------\u001b[0m",
      "\u001b[1;31mNameError\u001b[0m                                 Traceback (most recent call last)",
      "\u001b[1;32mC:\\Users\\GUSTAV~1.SIE\\AppData\\Local\\Temp/ipykernel_5628/1900624580.py\u001b[0m in \u001b[0;36m<module>\u001b[1;34m\u001b[0m\n\u001b[1;32m----> 1\u001b[1;33m \u001b[1;32mfor\u001b[0m \u001b[0mi\u001b[0m\u001b[1;33m,\u001b[0m \u001b[0mdocument\u001b[0m \u001b[1;32min\u001b[0m \u001b[0menumerate\u001b[0m\u001b[1;33m(\u001b[0m\u001b[0mdocuments\u001b[0m\u001b[1;33m)\u001b[0m\u001b[1;33m:\u001b[0m\u001b[1;33m\u001b[0m\u001b[1;33m\u001b[0m\u001b[0m\n\u001b[0m\u001b[0;32m      2\u001b[0m     \u001b[0mdo_something\u001b[0m\u001b[1;33m(\u001b[0m\u001b[0mi\u001b[0m\u001b[1;33m,\u001b[0m\u001b[0mdocument\u001b[0m\u001b[1;33m)\u001b[0m\u001b[1;33m\u001b[0m\u001b[1;33m\u001b[0m\u001b[0m\n",
      "\u001b[1;31mNameError\u001b[0m: name 'documents' is not defined"
     ]
    }
   ],
   "source": [
    "for i, document in enumerate(documents):\n",
    "    do_something(i,document)"
   ]
  },
  {
   "cell_type": "markdown",
   "id": "150bb5fb",
   "metadata": {},
   "source": [
    "**Descompactação de Zip e Argumentos:**"
   ]
  },
  {
   "cell_type": "code",
   "execution_count": 37,
   "id": "3c4b5cfc",
   "metadata": {},
   "outputs": [
    {
     "name": "stdout",
     "output_type": "stream",
     "text": [
      "<zip object at 0x000001F9CFAAED40>\n"
     ]
    }
   ],
   "source": [
    "# Zip transforma listas multiplas em uma unica lista de tuplas:\n",
    "\n",
    "list_1 = ['a','b','c']\n",
    "list_2 = [1,2,3]\n",
    "zip_list = zip(list_1,list_2)\n",
    "print(zip_list)"
   ]
  },
  {
   "cell_type": "code",
   "execution_count": 40,
   "id": "76d4cce0",
   "metadata": {},
   "outputs": [
    {
     "data": {
      "text/plain": [
       "<zip at 0x1f9cfaaebc0>"
      ]
     },
     "execution_count": 40,
     "metadata": {},
     "output_type": "execute_result"
    }
   ],
   "source": [
    "# para descompactar é só jogar na função\n",
    "# ... só n sei pq n ta retornando os dados e sim a classe o objeto.\n",
    "zip(('a',1),('b',2),('c',3))"
   ]
  },
  {
   "cell_type": "markdown",
   "id": "f7a418d3",
   "metadata": {},
   "source": [
    "**args e kwargs:**"
   ]
  },
  {
   "cell_type": "markdown",
   "id": "f5299b53",
   "metadata": {},
   "source": [
    "Digamos que queremos criar uma função de ordem alta que tem como entrada uma função e retorna uma função nova.<br>\n",
    "O que precisamos é de uma maneira de especificar uma função que leva argumentos arbitrários. Podemos fazer isso com a descompactação de argumentos e um pouco de mágica."
   ]
  },
  {
   "cell_type": "code",
   "execution_count": 9,
   "id": "61f6f365",
   "metadata": {},
   "outputs": [
    {
     "name": "stdout",
     "output_type": "stream",
     "text": [
      "unnamed args: (('a', 'b', 'c'), {1, 'a', 'b'}) {}\n"
     ]
    }
   ],
   "source": [
    "def magic(*args,**kwargs):\n",
    "    print(\"unnamed args:\",args, kwargs)\n",
    "\n",
    "magic(('a','b','c'),{'a','b',1})"
   ]
  },
  {
   "cell_type": "code",
   "execution_count": 22,
   "id": "006b3d29",
   "metadata": {},
   "outputs": [
    {
     "ename": "SyntaxError",
     "evalue": "invalid syntax (Temp/ipykernel_20356/3634868025.py, line 3)",
     "output_type": "error",
     "traceback": [
      "\u001b[1;36m  File \u001b[1;32m\"C:\\Users\\GUSTAV~1.SIE\\AppData\\Local\\Temp/ipykernel_20356/3634868025.py\"\u001b[1;36m, line \u001b[1;32m3\u001b[0m\n\u001b[1;33m    \"\"\"funciona,não importa qual a entrada\"\"\"\u001b[0m\n\u001b[1;37m       ^\u001b[0m\n\u001b[1;31mSyntaxError\u001b[0m\u001b[1;31m:\u001b[0m invalid syntax\n"
     ]
    }
   ],
   "source": [
    "\"\"\"\n",
    "def doubler_correct(f):\n",
    "    \"\"\"funciona,não importa qual a entrada\"\"\"\n",
    "    def g(*args, **kwargs):\n",
    "        \"\"\"Os argumentos com que g() é fornecido passa pra f()\"\"\"\n",
    "        return(2 * f(*args, **kwargs))\n",
    "    return g\n",
    "\n",
    "doubler_correct(1)\n",
    "\n",
    "\"\"\"\n",
    "# Esse código foi copiado do livro, porém não funcionou"
   ]
  },
  {
   "cell_type": "code",
   "execution_count": null,
   "id": "ffeb7829",
   "metadata": {},
   "outputs": [],
   "source": []
  }
 ],
 "metadata": {
  "kernelspec": {
   "display_name": "Python 3 (ipykernel)",
   "language": "python",
   "name": "python3"
  },
  "language_info": {
   "codemirror_mode": {
    "name": "ipython",
    "version": 3
   },
   "file_extension": ".py",
   "mimetype": "text/x-python",
   "name": "python",
   "nbconvert_exporter": "python",
   "pygments_lexer": "ipython3",
   "version": "3.9.7"
  }
 },
 "nbformat": 4,
 "nbformat_minor": 5
}
